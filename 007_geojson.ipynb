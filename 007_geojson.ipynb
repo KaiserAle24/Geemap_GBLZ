{
 "cells": [
  {
   "cell_type": "markdown",
   "id": "105987ab",
   "metadata": {},
   "source": [
    "<a href=\"https://githubtocolab.com/gee-community/geemap/blob/master/examples/notebooks/07_geojson.ipynb\" target=\"_parent\"><img src=\"https://colab.research.google.com/assets/colab-badge.svg\" alt=\"Open in Colab\"/></a>\n",
    "\n",
    "Uncomment the following line to install [geemap](https://geemap.org) if needed."
   ]
  },
  {
   "cell_type": "code",
   "execution_count": null,
   "id": "b30e7278",
   "metadata": {},
   "outputs": [],
   "source": [
    "# !pip install geemap"
   ]
  },
  {
   "cell_type": "code",
   "execution_count": 1,
   "id": "15263bb5",
   "metadata": {},
   "outputs": [],
   "source": [
    "import geemap\n",
    "import json\n",
    "import os\n",
    "import requests\n",
    "from geemap import geojson_to_ee, ee_to_geojson\n",
    "from ipyleaflet import GeoJSON"
   ]
  },
  {
   "cell_type": "code",
   "execution_count": 2,
   "id": "70575bfe",
   "metadata": {},
   "outputs": [],
   "source": [
    "# geemap.show_youtube('DbK_SRgrCHw')"
   ]
  },
  {
   "cell_type": "code",
   "execution_count": 3,
   "id": "29d11255",
   "metadata": {},
   "outputs": [
    {
     "data": {
      "application/vnd.jupyter.widget-view+json": {
       "model_id": "28125aa3b2f94206b1c423b1e14496ae",
       "version_major": 2,
       "version_minor": 0
      },
      "text/plain": [
       "Map(center=[20, 0], controls=(WidgetControl(options=['position', 'transparent_bg'], widget=HBox(children=(Togg…"
      ]
     },
     "metadata": {},
     "output_type": "display_data"
    }
   ],
   "source": [
    "Map = geemap.Map()\n",
    "Map"
   ]
  },
  {
   "cell_type": "code",
   "execution_count": 4,
   "id": "c76233e1",
   "metadata": {},
   "outputs": [],
   "source": [
    "file_path = os.path.abspath('../datos_geo/GTO_MUN_CG.geojson')\n",
    "\n",
    "if not os.path.exists(file_path):\n",
    "    url = 'https://github.com/KaiserAle24/data_mex/blob/main/GTO_MUN_CG.geojson'\n",
    "    r = requests.get(url)\n",
    "    with open(file_path, 'w') as f:\n",
    "        f.write(r.content.decode(\"utf-8\"))\n",
    "\n",
    "with open(file_path) as f:\n",
    "    json_data = json.load(f)"
   ]
  },
  {
   "cell_type": "code",
   "execution_count": 5,
   "id": "220da1c9",
   "metadata": {},
   "outputs": [],
   "source": [
    "json_layer = GeoJSON(\n",
    "    data=json_data,\n",
    "    name='GTO MUN GEOJSON',\n",
    "    hover_style={'fillColor': 'red', 'fillOpacity': 0.5},\n",
    ")\n",
    "Map.add_layer(json_layer)"
   ]
  },
  {
   "cell_type": "code",
   "execution_count": null,
   "id": "dea5173c",
   "metadata": {},
   "outputs": [],
   "source": [
    "ee_data = geojson_to_ee(json_data)\n",
    "Map.addLayer(ee_data, {}, \"GTO MUN EE\")"
   ]
  },
  {
   "cell_type": "code",
   "execution_count": null,
   "id": "3d61511c",
   "metadata": {},
   "outputs": [],
   "source": [
    "json_data_2 = ee_to_geojson(ee_data)\n",
    "json_layer_2 = GeoJSON(\n",
    "    data=json_data_2,\n",
    "    name='GTO MUN EE GEOJSON',\n",
    "    hover_style={'fillColor': 'red', 'fillOpacity': 0.5},\n",
    ")\n",
    "Map.add_layer(json_layer_2)"
   ]
  },
  {
   "cell_type": "code",
   "execution_count": 3,
   "id": "f4f543e0",
   "metadata": {},
   "outputs": [],
   "source": [
    "file_path = os.path.abspath('../datos_geo/Estatal_SP.geojson')\n",
    "\n",
    "if not os.path.exists(file_path):\n",
    "    url = 'https://github.com/KaiserAle24/data_mex/blob/main/Estatal_SP.geojson'\n",
    "    r = requests.get(url)\n",
    "    with open(file_path, 'w') as f:\n",
    "        f.write(r.content.decode(\"utf-8\"))\n",
    "\n",
    "with open(file_path) as f:\n",
    "    json_data = json.load(f)"
   ]
  },
  {
   "cell_type": "code",
   "execution_count": 4,
   "id": "14ef72bc",
   "metadata": {},
   "outputs": [],
   "source": [
    "json_layer = GeoJSON(\n",
    "    data=json_data,\n",
    "    name='Estados',\n",
    "    hover_style={'fillColor': 'red', 'fillOpacity': 0.5},\n",
    ")\n",
    "Map.add_layer(json_layer)"
   ]
  },
  {
   "cell_type": "code",
   "execution_count": 5,
   "id": "b64db90b",
   "metadata": {},
   "outputs": [],
   "source": [
    "from ipywidgets import Text, HTML\n",
    "from ipyleaflet import WidgetControl, GeoJSON\n",
    "\n",
    "html1 = HTML(\n",
    "    '''\n",
    "    <h4>Estado</h4>\n",
    "    Hover over a country\n",
    "'''\n",
    ")\n",
    "html1.layout.margin = '0px 20px 20px 20px'\n",
    "control1 = WidgetControl(widget=html1, position='bottomright')\n",
    "Map.add_control(control1)\n",
    "\n",
    "\n",
    "def update_html(feature, **kwargs):\n",
    "    html1.value = '''\n",
    "        <h4>Cve Estatal: <b>{}</b></h4>\n",
    "        Country name: {}\n",
    "    '''.format(\n",
    "        feature['properties']['CODIGO'], feature['properties']['ESTADO']\n",
    "    )\n",
    "\n",
    "\n",
    "json_layer.on_hover(update_html)"
   ]
  },
  {
   "cell_type": "code",
   "execution_count": null,
   "id": "ca1350dc",
   "metadata": {},
   "outputs": [],
   "source": []
  },
  {
   "cell_type": "code",
   "execution_count": null,
   "id": "b63af0c7",
   "metadata": {},
   "outputs": [],
   "source": []
  }
 ],
 "metadata": {
  "kernelspec": {
   "display_name": "Python 3 (ipykernel)",
   "language": "python",
   "name": "python3"
  },
  "language_info": {
   "codemirror_mode": {
    "name": "ipython",
    "version": 3
   },
   "file_extension": ".py",
   "mimetype": "text/x-python",
   "name": "python",
   "nbconvert_exporter": "python",
   "pygments_lexer": "ipython3",
   "version": "3.10.10"
  }
 },
 "nbformat": 4,
 "nbformat_minor": 5
}
