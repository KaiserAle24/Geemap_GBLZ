{
 "cells": [
  {
   "cell_type": "markdown",
   "id": "e093a63e",
   "metadata": {},
   "source": [
    "<a href=\"https://githubtocolab.com/giswqs/geemap/blob/master/examples/notebooks/06_marker_cluster.ipynb\" target=\"_parent\"><img src=\"https://colab.research.google.com/assets/colab-badge.svg\" alt=\"Open in Colab\"/></a>\n",
    "\n",
    "Uncomment the following line to install [geemap](https://geemap.org) if needed."
   ]
  },
  {
   "cell_type": "code",
   "execution_count": null,
   "id": "212945a9",
   "metadata": {},
   "outputs": [],
   "source": [
    "# !pip install geemap"
   ]
  },
  {
   "cell_type": "code",
   "execution_count": 1,
   "id": "ec8df2ae",
   "metadata": {},
   "outputs": [],
   "source": [
    "import geemap\n",
    "import json\n",
    "import os\n",
    "import requests\n",
    "from geemap import geojson_to_ee, ee_to_geojson\n",
    "from ipyleaflet import GeoJSON, Marker, MarkerCluster"
   ]
  },
  {
   "cell_type": "code",
   "execution_count": null,
   "id": "90839b9d",
   "metadata": {},
   "outputs": [],
   "source": [
    "# geemap.show_youtube('4HycJPrwpuo')"
   ]
  },
  {
   "cell_type": "code",
   "execution_count": 2,
   "id": "03522fae",
   "metadata": {
    "scrolled": false
   },
   "outputs": [
    {
     "data": {
      "application/vnd.jupyter.widget-view+json": {
       "model_id": "b8cc67814ecf46e9a46431c5f4591351",
       "version_major": 2,
       "version_minor": 0
      },
      "text/plain": [
       "Map(center=[20, -99], controls=(WidgetControl(options=['position', 'transparent_bg'], widget=HBox(children=(To…"
      ]
     },
     "metadata": {},
     "output_type": "display_data"
    }
   ],
   "source": [
    "Map = geemap.Map(center=(20, -99), zoom=4)\n",
    "Map"
   ]
  },
  {
   "cell_type": "code",
   "execution_count": 3,
   "id": "09bc7adf",
   "metadata": {},
   "outputs": [],
   "source": [
    "# Map.add_basemap('Esri.WorldImagery')"
   ]
  },
  {
   "cell_type": "code",
   "execution_count": 4,
   "id": "7ed945c9",
   "metadata": {},
   "outputs": [],
   "source": [
    "file_path = os.path.abspath('../datos_geo/GTO_PUNTOS.geojson')\n",
    "\n",
    "if not os.path.exists(file_path):\n",
    "    url = 'https://github.com/KaiserAle24/data_mex/blob/main/GTO_PUNTOS.geojson' \n",
    "    r = requests.get(url)\n",
    "    with open(file_path, 'w') as f:\n",
    "        f.write(r.content.decode(\"utf-8\"))\n",
    "\n",
    "with open(file_path) as f:\n",
    "    json_data = json.load(f)"
   ]
  },
  {
   "cell_type": "code",
   "execution_count": 5,
   "id": "0e7c1421",
   "metadata": {},
   "outputs": [],
   "source": [
    "maker_cluster = MarkerCluster(\n",
    "    markers=[\n",
    "        Marker(location=feature['geometry']['coordinates'][::-1])\n",
    "        for feature in json_data['features']\n",
    "    ],\n",
    "    name='Markers',\n",
    ")"
   ]
  },
  {
   "cell_type": "code",
   "execution_count": 6,
   "id": "23c096ff",
   "metadata": {},
   "outputs": [],
   "source": [
    "Map.add_layer(maker_cluster)"
   ]
  },
  {
   "cell_type": "code",
   "execution_count": 7,
   "id": "86e1b2e9",
   "metadata": {},
   "outputs": [],
   "source": [
    "ee_fc = geojson_to_ee(json_data)\n",
    "Map.addLayer(ee_fc, {}, \"Localidades Rurales GTO EE\")"
   ]
  },
  {
   "cell_type": "code",
   "execution_count": null,
   "id": "bc98f065",
   "metadata": {},
   "outputs": [],
   "source": []
  }
 ],
 "metadata": {
  "kernelspec": {
   "display_name": "Python 3 (ipykernel)",
   "language": "python",
   "name": "python3"
  },
  "language_info": {
   "codemirror_mode": {
    "name": "ipython",
    "version": 3
   },
   "file_extension": ".py",
   "mimetype": "text/x-python",
   "name": "python",
   "nbconvert_exporter": "python",
   "pygments_lexer": "ipython3",
   "version": "3.10.10"
  }
 },
 "nbformat": 4,
 "nbformat_minor": 5
}
