{
 "cells": [
  {
   "cell_type": "markdown",
   "id": "cc3d017d",
   "metadata": {},
   "source": [
    "<a href=\"https://githubtocolab.com/gee-community/geemap/blob/master/examples/notebooks/02_using_basemaps.ipynb\" target=\"_parent\"><img src=\"https://colab.research.google.com/assets/colab-badge.svg\" alt=\"Open in Colab\"/></a>\n"
   ]
  },
  {
   "cell_type": "markdown",
   "id": "5f2d0687",
   "metadata": {},
   "source": [
    "Uncomment the following line to install [geemap](https://geemap.org) if needed."
   ]
  },
  {
   "cell_type": "code",
   "execution_count": null,
   "id": "0b71a317",
   "metadata": {},
   "outputs": [],
   "source": [
    "# !pip install geemap"
   ]
  },
  {
   "cell_type": "code",
   "execution_count": null,
   "id": "40f64a2a",
   "metadata": {},
   "outputs": [],
   "source": [
    "import geemap"
   ]
  },
  {
   "cell_type": "code",
   "execution_count": null,
   "id": "43391284",
   "metadata": {},
   "outputs": [],
   "source": [
    "Map = geemap.Map(center=[21.4, -99], zoom=5)\n",
    "Map"
   ]
  },
  {
   "cell_type": "code",
   "execution_count": null,
   "id": "39fb6afa",
   "metadata": {},
   "outputs": [],
   "source": [
    "Map.add_basemap('HYBRID')"
   ]
  },
  {
   "cell_type": "code",
   "execution_count": null,
   "id": "66bf2934",
   "metadata": {},
   "outputs": [],
   "source": [
    "Map = geemap.Map(center=[23, -99], zoom=5)\n",
    "url = 'http://gaia.inegi.org.mx/NLB/tunnel/wms/wms61?'\n",
    "Map.add_wms_layer(\n",
    "    url=url,\n",
    "    layers='c418',\n",
    "    name='CLIMA',\n",
    "    format='image/png',\n",
    "    attribution='INEGI',\n",
    "    transparent=True,\n",
    ")\n",
    "Map"
   ]
  },
  {
   "cell_type": "code",
   "execution_count": null,
   "id": "2f3779f8",
   "metadata": {},
   "outputs": [],
   "source": [
    "Map = geemap.Map(center=[23, -99], zoom=5)\n",
    "url = 'https://www.gits.igg.unam.mx/wmsproxy/wms?'\n",
    "Map.add_wms_layer(\n",
    "    url=url,\n",
    "    layers='inegi_contprecip_1999',\n",
    "    name='ANP',\n",
    "    format='image/png',\n",
    "    attribution='INEGI',\n",
    "    transparent=True,\n",
    ")\n",
    "Map"
   ]
  },
  {
   "cell_type": "code",
   "execution_count": null,
   "id": "1c49a57a",
   "metadata": {},
   "outputs": [],
   "source": [
    "url = 'https://mt1.google.com/vt/lyrs=m&x={x}&y={y}&z={z}' \n",
    "Map.add_tile_layer(url, name='Tile Map', attribution='Google')"
   ]
  },
  {
   "cell_type": "code",
   "execution_count": null,
   "id": "35d5571a",
   "metadata": {},
   "outputs": [],
   "source": [
    "# https://mappinggis.com/2018/03/como-anadir-mapas-base-en-qgis-3-0-openstreetmap-google-carto-stamen/"
   ]
  }
 ],
 "metadata": {
  "kernelspec": {
   "display_name": "Python 3 (ipykernel)",
   "language": "python",
   "name": "python3"
  },
  "language_info": {
   "codemirror_mode": {
    "name": "ipython",
    "version": 3
   },
   "file_extension": ".py",
   "mimetype": "text/x-python",
   "name": "python",
   "nbconvert_exporter": "python",
   "pygments_lexer": "ipython3",
   "version": "3.10.10"
  }
 },
 "nbformat": 4,
 "nbformat_minor": 5
}
