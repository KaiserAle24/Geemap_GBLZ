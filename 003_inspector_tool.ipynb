{
 "cells": [
  {
   "cell_type": "markdown",
   "id": "17079dff",
   "metadata": {},
   "source": [
    "<a href=\"https://githubtocolab.com/giswqs/geemap/blob/master/examples/notebooks/03_inspector_tool.ipynb\" target=\"_parent\"><img src=\"https://colab.research.google.com/assets/colab-badge.svg\" alt=\"Open in Colab\"/></a>"
   ]
  },
  {
   "cell_type": "markdown",
   "id": "ceb47252",
   "metadata": {},
   "source": [
    "Uncomment the following line to install [geemap](https://geemap.org) if needed."
   ]
  },
  {
   "cell_type": "code",
   "execution_count": null,
   "id": "0142e43c",
   "metadata": {},
   "outputs": [],
   "source": [
    "# !pip install geemap"
   ]
  },
  {
   "cell_type": "code",
   "execution_count": 1,
   "id": "62f722a2",
   "metadata": {},
   "outputs": [],
   "source": [
    "import ee\n",
    "import geemap"
   ]
  },
  {
   "cell_type": "code",
   "execution_count": null,
   "id": "110af1a7",
   "metadata": {},
   "outputs": [],
   "source": [
    "# geemap.show_youtube('k477ksjkaXw')"
   ]
  },
  {
   "cell_type": "markdown",
   "id": "8283d25c",
   "metadata": {},
   "source": [
    "## Create an interactive map"
   ]
  },
  {
   "cell_type": "code",
   "execution_count": 2,
   "id": "c4262b14",
   "metadata": {},
   "outputs": [],
   "source": [
    "Map = geemap.Map(center=(22, -99), zoom=5)\n"
   ]
  },
  {
   "cell_type": "markdown",
   "id": "a3259017",
   "metadata": {},
   "source": [
    "## Add Earth Engine Python script"
   ]
  },
  {
   "cell_type": "code",
   "execution_count": 3,
   "id": "52b097f6",
   "metadata": {},
   "outputs": [
    {
     "data": {
      "application/vnd.jupyter.widget-view+json": {
       "model_id": "607d25372afe4238a669c642d0d31cb5",
       "version_major": 2,
       "version_minor": 0
      },
      "text/plain": [
       "Map(center=[22, -99], controls=(WidgetControl(options=['position', 'transparent_bg'], widget=HBox(children=(To…"
      ]
     },
     "metadata": {},
     "output_type": "display_data"
    }
   ],
   "source": [
    "# Add Earth Engine dataset\n",
    "dem = ee.Image('USGS/SRTMGL1_003')\n",
    "landcover = ee.Image(\"ESA/GLOBCOVER_L4_200901_200912_V2_3\").select('landcover')\n",
    "landsat7 = ee.Image('LANDSAT/LE7_TOA_5YEAR/1999_2003').select(\n",
    "    ['B1', 'B2', 'B3', 'B4', 'B5', 'B7']\n",
    ")\n",
    "states = ee.FeatureCollection('users/Alejandro_AmayaH/ESTATAL_NAL')\n",
    "\n",
    "# Set visualization parameters.\n",
    "vis_params = {\n",
    "    'min': 0,\n",
    "    'max': 4000,\n",
    "    'palette': ['006633', 'E5FFCC', '662A00', 'D8D8D8', 'F5F5F5'],\n",
    "}\n",
    "\n",
    "# Add Earth Engine layers to Map\n",
    "Map.addLayer(dem, vis_params, 'SRTM DEM', True, 0.5)\n",
    "Map.addLayer(landcover, {}, 'Land cover')\n",
    "Map.addLayer(\n",
    "    landsat7,\n",
    "    {'bands': ['B4', 'B3', 'B2'], 'min': 20, 'max': 200, 'gamma': 2.0},\n",
    "    'Landsat 7',\n",
    ")\n",
    "Map.addLayer(states, {}, \"MX States\")\n",
    "\n",
    "Map"
   ]
  },
  {
   "cell_type": "code",
   "execution_count": null,
   "id": "f8af12c2",
   "metadata": {},
   "outputs": [],
   "source": []
  }
 ],
 "metadata": {
  "kernelspec": {
   "display_name": "Python 3 (ipykernel)",
   "language": "python",
   "name": "python3"
  },
  "language_info": {
   "codemirror_mode": {
    "name": "ipython",
    "version": 3
   },
   "file_extension": ".py",
   "mimetype": "text/x-python",
   "name": "python",
   "nbconvert_exporter": "python",
   "pygments_lexer": "ipython3",
   "version": "3.10.10"
  }
 },
 "nbformat": 4,
 "nbformat_minor": 5
}
