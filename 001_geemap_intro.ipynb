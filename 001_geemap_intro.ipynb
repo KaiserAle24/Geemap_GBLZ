{
 "cells": [
  {
   "cell_type": "markdown",
   "id": "4170f731",
   "metadata": {
    "toc": true
   },
   "source": [
    "<h1>Table of Contents<span class=\"tocSkip\"></span></h1>\n",
    "<div class=\"toc\"><ul class=\"toc-item\"></ul></div>"
   ]
  },
  {
   "cell_type": "markdown",
   "id": "8d368542",
   "metadata": {},
   "source": [
    "Uncomment the following line to install [geemap](https://geemap.org) if needed."
   ]
  },
  {
   "cell_type": "code",
   "execution_count": null,
   "id": "fd84cd22",
   "metadata": {},
   "outputs": [],
   "source": [
    "# !pip install geemap"
   ]
  },
  {
   "cell_type": "code",
   "execution_count": null,
   "id": "7d5a7bfc",
   "metadata": {},
   "outputs": [],
   "source": [
    "# Actualizar Geemap\n",
    "# pip install -U geemap"
   ]
  },
  {
   "cell_type": "code",
   "execution_count": 1,
   "id": "240ee395",
   "metadata": {},
   "outputs": [],
   "source": [
    "import geemap"
   ]
  },
  {
   "cell_type": "code",
   "execution_count": 2,
   "id": "87fb7f9a",
   "metadata": {},
   "outputs": [],
   "source": [
    "# geemap.show_youtube('h0pz3S6Tvx0')"
   ]
  },
  {
   "cell_type": "code",
   "execution_count": 3,
   "id": "3c11ad6d",
   "metadata": {
    "scrolled": false
   },
   "outputs": [
    {
     "data": {
      "application/vnd.jupyter.widget-view+json": {
       "model_id": "956722a83bfa42638baec7b21d581e55",
       "version_major": 2,
       "version_minor": 0
      },
      "text/plain": [
       "Map(center=[22, -99], controls=(WidgetControl(options=['position', 'transparent_bg'], widget=HBox(children=(To…"
      ]
     },
     "metadata": {},
     "output_type": "display_data"
    }
   ],
   "source": [
    "Map = geemap.Map(center=(22, -99), zoom=5)\n",
    "Map"
   ]
  },
  {
   "cell_type": "code",
   "execution_count": 4,
   "id": "39065ecb",
   "metadata": {},
   "outputs": [
    {
     "name": "stdout",
     "output_type": "stream",
     "text": [
      "OpenStreetMap\n",
      "Esri.WorldStreetMap\n",
      "Esri.WorldImagery\n",
      "Esri.WorldTopoMap\n",
      "FWS NWI Wetlands\n",
      "FWS NWI Wetlands Raster\n",
      "NLCD 2021 CONUS Land Cover\n",
      "NLCD 2019 CONUS Land Cover\n",
      "NLCD 2016 CONUS Land Cover\n",
      "NLCD 2013 CONUS Land Cover\n",
      "NLCD 2011 CONUS Land Cover\n",
      "NLCD 2008 CONUS Land Cover\n",
      "NLCD 2006 CONUS Land Cover\n",
      "NLCD 2004 CONUS Land Cover\n",
      "NLCD 2001 CONUS Land Cover\n",
      "USGS NAIP Imagery\n",
      "USGS NAIP Imagery False Color\n",
      "USGS NAIP Imagery NDVI\n",
      "USGS Hydrography\n",
      "USGS 3DEP Elevation\n",
      "ESA Worldcover 2020\n",
      "ESA Worldcover 2020 S2 FCC\n",
      "ESA Worldcover 2020 S2 TCC\n",
      "ESA Worldcover 2021\n",
      "ESA Worldcover 2021 S2 FCC\n",
      "ESA Worldcover 2021 S2 TCC\n",
      "BasemapAT.basemap\n",
      "BasemapAT.grau\n",
      "BasemapAT.highdpi\n",
      "BasemapAT.orthofoto\n",
      "BasemapAT.overlay\n",
      "BasemapAT.surface\n",
      "BasemapAT.terrain\n",
      "CartoDB.DarkMatter\n",
      "CartoDB.DarkMatterNoLabels\n",
      "CartoDB.DarkMatterOnlyLabels\n",
      "CartoDB.Positron\n",
      "CartoDB.PositronNoLabels\n",
      "CartoDB.PositronOnlyLabels\n",
      "CartoDB.Voyager\n",
      "CartoDB.VoyagerLabelsUnder\n",
      "CartoDB.VoyagerNoLabels\n",
      "CartoDB.VoyagerOnlyLabels\n",
      "CyclOSM\n",
      "Esri.AntarcticBasemap\n",
      "Esri.AntarcticImagery\n",
      "Esri.ArcticImagery\n",
      "Esri.ArcticOceanBase\n",
      "Esri.ArcticOceanReference\n",
      "Esri.DeLorme\n",
      "Esri.NatGeoWorldMap\n",
      "Esri.OceanBasemap\n",
      "Esri.WorldGrayCanvas\n",
      "Esri.WorldPhysical\n",
      "Esri.WorldShadedRelief\n",
      "Esri.WorldTerrain\n",
      "FreeMapSK\n",
      "Gaode.Normal\n",
      "Gaode.Satellite\n",
      "HikeBike.HikeBike\n",
      "HikeBike.HillShading\n",
      "JusticeMap.americanIndian\n",
      "JusticeMap.asian\n",
      "JusticeMap.black\n",
      "JusticeMap.hispanic\n",
      "JusticeMap.income\n",
      "JusticeMap.multi\n",
      "JusticeMap.nonWhite\n",
      "JusticeMap.plurality\n",
      "JusticeMap.white\n",
      "MtbMap\n",
      "NASAGIBS.ASTER_GDEM_Greyscale_Shaded_Relief\n",
      "NASAGIBS.BlueMarble\n",
      "NASAGIBS.BlueMarble3031\n",
      "NASAGIBS.BlueMarble3413\n",
      "NASAGIBS.ModisAquaBands721CR\n",
      "NASAGIBS.ModisAquaTrueColorCR\n",
      "NASAGIBS.ModisTerraAOD\n",
      "NASAGIBS.ModisTerraBands367CR\n",
      "NASAGIBS.ModisTerraBands721CR\n",
      "NASAGIBS.ModisTerraChlorophyll\n",
      "NASAGIBS.ModisTerraLSTDay\n",
      "NASAGIBS.ModisTerraSnowCover\n",
      "NASAGIBS.ModisTerraTrueColorCR\n",
      "NASAGIBS.ViirsEarthAtNight2012\n",
      "NASAGIBS.ViirsTrueColorCR\n",
      "NLS\n",
      "OPNVKarte\n",
      "OneMapSG.Default\n",
      "OneMapSG.Grey\n",
      "OneMapSG.LandLot\n",
      "OneMapSG.Night\n",
      "OneMapSG.Original\n",
      "OpenAIP\n",
      "OpenFireMap\n",
      "OpenRailwayMap\n",
      "OpenSeaMap\n",
      "OpenSnowMap.pistes\n",
      "OpenStreetMap.BZH\n",
      "OpenStreetMap.BlackAndWhite\n",
      "OpenStreetMap.CH\n",
      "OpenStreetMap.DE\n",
      "OpenStreetMap.HOT\n",
      "OpenStreetMap.Mapnik\n",
      "OpenTopoMap\n",
      "SafeCast\n",
      "Stadia.AlidadeSmooth\n",
      "Stadia.AlidadeSmoothDark\n",
      "Stadia.OSMBright\n",
      "Stadia.Outdoors\n",
      "Stamen.Terrain\n",
      "Stamen.TerrainBackground\n",
      "Stamen.TerrainLabels\n",
      "Stamen.Toner\n",
      "Stamen.TonerBackground\n",
      "Stamen.TonerHybrid\n",
      "Stamen.TonerLabels\n",
      "Stamen.TonerLines\n",
      "Stamen.TonerLite\n",
      "Stamen.TopOSMFeatures\n",
      "Stamen.TopOSMRelief\n",
      "Stamen.Watercolor\n",
      "Strava.All\n",
      "Strava.Ride\n",
      "Strava.Run\n",
      "Strava.Water\n",
      "Strava.Winter\n",
      "SwissFederalGeoportal.JourneyThroughTime\n",
      "SwissFederalGeoportal.NationalMapColor\n",
      "SwissFederalGeoportal.NationalMapGrey\n",
      "SwissFederalGeoportal.SWISSIMAGE\n",
      "USGS.USImagery\n",
      "USGS.USImageryTopo\n",
      "USGS.USTopo\n",
      "WaymarkedTrails.cycling\n",
      "WaymarkedTrails.hiking\n",
      "WaymarkedTrails.mtb\n",
      "WaymarkedTrails.riding\n",
      "WaymarkedTrails.skating\n",
      "WaymarkedTrails.slopes\n",
      "nlmaps.grijs\n",
      "nlmaps.luchtfoto\n",
      "nlmaps.pastel\n",
      "nlmaps.standaard\n",
      "nlmaps.water\n"
     ]
    }
   ],
   "source": [
    "basemaps = geemap.basemaps\n",
    "for basemap in basemaps:\n",
    "    print(basemap)"
   ]
  },
  {
   "cell_type": "code",
   "execution_count": 5,
   "id": "d1982c9f",
   "metadata": {},
   "outputs": [],
   "source": [
    "Map.add_basemap('Esri.WorldImagery')"
   ]
  },
  {
   "cell_type": "code",
   "execution_count": 6,
   "id": "fd034e33",
   "metadata": {},
   "outputs": [],
   "source": [
    "Map.add_basemap('USGS.USImagery')"
   ]
  },
  {
   "cell_type": "code",
   "execution_count": 7,
   "id": "87411c0c",
   "metadata": {},
   "outputs": [],
   "source": [
    "Map.add_basemap('Esri.WorldStreetMap')"
   ]
  },
  {
   "cell_type": "code",
   "execution_count": 8,
   "id": "2721e890",
   "metadata": {},
   "outputs": [],
   "source": [
    "Map.add_basemap('Esri.WorldTopoMap')"
   ]
  },
  {
   "cell_type": "code",
   "execution_count": null,
   "id": "22bfdb9f",
   "metadata": {},
   "outputs": [],
   "source": []
  }
 ],
 "metadata": {
  "kernelspec": {
   "display_name": "Python 3 (ipykernel)",
   "language": "python",
   "name": "python3"
  },
  "language_info": {
   "codemirror_mode": {
    "name": "ipython",
    "version": 3
   },
   "file_extension": ".py",
   "mimetype": "text/x-python",
   "name": "python",
   "nbconvert_exporter": "python",
   "pygments_lexer": "ipython3",
   "version": "3.10.10"
  }
 },
 "nbformat": 4,
 "nbformat_minor": 5
}
