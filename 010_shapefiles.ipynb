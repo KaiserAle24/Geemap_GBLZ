{
 "cells": [
  {
   "cell_type": "markdown",
   "id": "854f2380",
   "metadata": {},
   "source": [
    "<a href=\"https://githubtocolab.com/giswqs/geemap/blob/master/examples/notebooks/10_shapefiles.ipynb\" target=\"_parent\"><img src=\"https://colab.research.google.com/assets/colab-badge.svg\" alt=\"Open in Colab\"/></a>\n",
    "\n",
    "Uncomment the following line to install [geemap](https://geemap.org) if needed."
   ]
  },
  {
   "cell_type": "code",
   "execution_count": null,
   "id": "2c7dab20",
   "metadata": {},
   "outputs": [],
   "source": [
    "# !pip install geemap"
   ]
  },
  {
   "cell_type": "code",
   "execution_count": 1,
   "id": "063e4b1c",
   "metadata": {},
   "outputs": [],
   "source": [
    "import geemap\n",
    "import os"
   ]
  },
  {
   "cell_type": "code",
   "execution_count": 2,
   "id": "491e3c3a",
   "metadata": {},
   "outputs": [],
   "source": [
    "# geemap.show_youtube('OlNlqfj4uHo')"
   ]
  },
  {
   "cell_type": "code",
   "execution_count": 3,
   "id": "0b6b6590",
   "metadata": {
    "scrolled": true
   },
   "outputs": [
    {
     "data": {
      "application/vnd.jupyter.widget-view+json": {
       "model_id": "31addb25ff3f428e85dc09b3300c0871",
       "version_major": 2,
       "version_minor": 0
      },
      "text/plain": [
       "Map(center=[17, -99], controls=(WidgetControl(options=['position', 'transparent_bg'], widget=HBox(children=(To…"
      ]
     },
     "metadata": {},
     "output_type": "display_data"
    }
   ],
   "source": [
    "Map = geemap.Map(center=(17,-99),zoom=6)\n",
    "Map"
   ]
  },
  {
   "cell_type": "code",
   "execution_count": 4,
   "id": "02000f35",
   "metadata": {},
   "outputs": [
    {
     "name": "stdout",
     "output_type": "stream",
     "text": [
      "C:\\Users\\PC\\0_GEEMAP\\geemap-master\\examples\\notebooks\n"
     ]
    }
   ],
   "source": [
    "# Get the current working directory\n",
    "cwd = os.getcwd()\n",
    "print(cwd)"
   ]
  },
  {
   "cell_type": "code",
   "execution_count": 5,
   "id": "7cc58746",
   "metadata": {},
   "outputs": [],
   "source": [
    "alcaldias_shp = '../datos_geo/shp/alcaldias.shp'\n",
    "alcaldias = geemap.shp_to_ee(alcaldias_shp)\n",
    "Map.addLayer(alcaldias, {}, 'Alcaldias CDMX')"
   ]
  },
  {
   "cell_type": "code",
   "execution_count": 6,
   "id": "3a39c718",
   "metadata": {},
   "outputs": [],
   "source": [
    "entidad_shp = '../datos_geo/shp/estatal_slp.shp'\n",
    "entidad = geemap.shp_to_ee(entidad_shp)\n",
    "Map.addLayer(entidad, {}, 'MX Estatal')"
   ]
  },
  {
   "cell_type": "code",
   "execution_count": 7,
   "id": "abc3c4c4",
   "metadata": {},
   "outputs": [],
   "source": [
    "loc_rur_shp = '../datos_geo/shp/loc_rur_cdmx.shp'\n",
    "loc_rur_cdmx = geemap.shp_to_ee(loc_rur_shp)\n",
    "Map.addLayer(loc_rur_cdmx, {}, 'CDMX LOC RUR')"
   ]
  },
  {
   "cell_type": "code",
   "execution_count": null,
   "id": "87132bfc",
   "metadata": {},
   "outputs": [],
   "source": [
    "geemap.ee_to_shp(alcaldias, filename='../datos_geo/output/alcaldias_010.shp')"
   ]
  },
  {
   "cell_type": "code",
   "execution_count": null,
   "id": "d343b9ef",
   "metadata": {},
   "outputs": [],
   "source": [
    "geemap.ee_export_vector(alcaldias, filename='../datos_geo/output/alcaldias_010.csv')"
   ]
  },
  {
   "cell_type": "code",
   "execution_count": null,
   "id": "d16b3f6e",
   "metadata": {},
   "outputs": [],
   "source": [
    "geemap.ee_export_vector(alcaldias, filename='../datos_geo/output/alcaldias_010.kml')"
   ]
  },
  {
   "cell_type": "code",
   "execution_count": null,
   "id": "85f6b09a",
   "metadata": {},
   "outputs": [],
   "source": [
    "geemap.ee_export_vector(alcaldias, filename='../datos_geo/output/alcaldias_010.kmz')"
   ]
  },
  {
   "cell_type": "code",
   "execution_count": null,
   "id": "9f70eacf",
   "metadata": {},
   "outputs": [],
   "source": []
  }
 ],
 "metadata": {
  "kernelspec": {
   "display_name": "Python 3 (ipykernel)",
   "language": "python",
   "name": "python3"
  },
  "language_info": {
   "codemirror_mode": {
    "name": "ipython",
    "version": 3
   },
   "file_extension": ".py",
   "mimetype": "text/x-python",
   "name": "python",
   "nbconvert_exporter": "python",
   "pygments_lexer": "ipython3",
   "version": "3.10.10"
  }
 },
 "nbformat": 4,
 "nbformat_minor": 5
}
